{
 "cells": [
  {
   "cell_type": "code",
   "execution_count": 138,
   "metadata": {},
   "outputs": [],
   "source": [
    "import pandas as pd\n",
    "import matplotlib.pyplot as plt\n",
    "%matplotlib inline \n",
    "import numpy as np\n",
    "import seaborn as sns\n",
    "import warnings"
   ]
  },
  {
   "cell_type": "code",
   "execution_count": 139,
   "metadata": {},
   "outputs": [],
   "source": [
    "train=pd.read_csv('train.csv')\n",
    "campaign_data=pd.read_csv('campaign_data.csv')\n",
    "coupon_item_mapping=pd.read_csv('coupon_item_mapping.csv')\n",
    "customer_demographics=pd.read_csv('customer_demographics.csv')\n",
    "customer_transaction_data=pd.read_csv('customer_transaction_data.csv')\n",
    "item_data=pd.read_csv('item_data.csv')\n",
    "test=pd.read_csv('test.csv')"
   ]
  },
  {
   "cell_type": "code",
   "execution_count": 140,
   "metadata": {},
   "outputs": [
    {
     "name": "stdout",
     "output_type": "stream",
     "text": [
      "Train count:78369\n",
      "Test count:50226\n",
      "campaign_data count:28\n",
      "coupon_item_mapping count:92663\n",
      "customer_demographics count:760\n",
      "customer_transaction_data count:1324566\n",
      "item_data count:74066\n"
     ]
    }
   ],
   "source": [
    "print ('Train count:'+ str(len(train)))\n",
    "print ('Test count:'+ str(len(test)))\n",
    "print ('campaign_data count:'+ str(len(campaign_data)))\n",
    "print ('coupon_item_mapping count:'+ str(len(coupon_item_mapping)))\n",
    "print ('customer_demographics count:'+ str(len(customer_demographics)))\n",
    "print ('customer_transaction_data count:'+ str(len(customer_transaction_data)))\n",
    "print ('item_data count:'+ str(len(item_data)))"
   ]
  },
  {
   "cell_type": "code",
   "execution_count": 178,
   "metadata": {},
   "outputs": [],
   "source": [
    "data = pd.concat([train, test], sort=False).reset_index(drop = True)"
   ]
  },
  {
   "cell_type": "code",
   "execution_count": 144,
   "metadata": {},
   "outputs": [],
   "source": [
    "ltr = len(train)"
   ]
  },
  {
   "cell_type": "code",
   "execution_count": 179,
   "metadata": {},
   "outputs": [],
   "source": [
    "data = data.merge(campaign_data, on='campaign_id')#  campaign_data\n",
    "data = data.merge(customer_demographics, on='customer_id',how='left') #  customer_demographics"
   ]
  },
  {
   "cell_type": "code",
   "execution_count": 180,
   "metadata": {},
   "outputs": [],
   "source": [
    "data = pd.merge_asof(data.sort_values(\"customer_id\"), customer_transaction_data.sort_values(\"customer_id\"), on='customer_id')\n",
    "data = pd.merge_asof(data.sort_values(\"item_id\"), item_data.sort_values(\"item_id\"), on='item_id')"
   ]
  },
  {
   "cell_type": "code",
   "execution_count": 151,
   "metadata": {},
   "outputs": [
    {
     "data": {
      "text/plain": [
       "128595"
      ]
     },
     "execution_count": 151,
     "metadata": {},
     "output_type": "execute_result"
    }
   ],
   "source": [
    "len(data)"
   ]
  },
  {
   "cell_type": "code",
   "execution_count": 181,
   "metadata": {},
   "outputs": [
    {
     "data": {
      "text/html": [
       "<div>\n",
       "<style scoped>\n",
       "    .dataframe tbody tr th:only-of-type {\n",
       "        vertical-align: middle;\n",
       "    }\n",
       "\n",
       "    .dataframe tbody tr th {\n",
       "        vertical-align: top;\n",
       "    }\n",
       "\n",
       "    .dataframe thead th {\n",
       "        text-align: right;\n",
       "    }\n",
       "</style>\n",
       "<table border=\"1\" class=\"dataframe\">\n",
       "  <thead>\n",
       "    <tr style=\"text-align: right;\">\n",
       "      <th></th>\n",
       "      <th>id</th>\n",
       "      <th>campaign_id</th>\n",
       "      <th>coupon_id</th>\n",
       "      <th>customer_id</th>\n",
       "      <th>redemption_status</th>\n",
       "      <th>campaign_type</th>\n",
       "      <th>start_date</th>\n",
       "      <th>end_date</th>\n",
       "      <th>age_range</th>\n",
       "      <th>marital_status</th>\n",
       "      <th>...</th>\n",
       "      <th>income_bracket</th>\n",
       "      <th>date</th>\n",
       "      <th>item_id</th>\n",
       "      <th>quantity</th>\n",
       "      <th>selling_price</th>\n",
       "      <th>other_discount</th>\n",
       "      <th>coupon_discount</th>\n",
       "      <th>brand</th>\n",
       "      <th>brand_type</th>\n",
       "      <th>category</th>\n",
       "    </tr>\n",
       "  </thead>\n",
       "  <tbody>\n",
       "    <tr>\n",
       "      <th>0</th>\n",
       "      <td>11580</td>\n",
       "      <td>18</td>\n",
       "      <td>956</td>\n",
       "      <td>85</td>\n",
       "      <td>NaN</td>\n",
       "      <td>X</td>\n",
       "      <td>10/08/13</td>\n",
       "      <td>04/10/13</td>\n",
       "      <td>46-55</td>\n",
       "      <td>NaN</td>\n",
       "      <td>...</td>\n",
       "      <td>3.0</td>\n",
       "      <td>2013-03-29</td>\n",
       "      <td>37</td>\n",
       "      <td>2</td>\n",
       "      <td>95.11</td>\n",
       "      <td>-18.17</td>\n",
       "      <td>0.0</td>\n",
       "      <td>56</td>\n",
       "      <td>Local</td>\n",
       "      <td>Grocery</td>\n",
       "    </tr>\n",
       "    <tr>\n",
       "      <th>1</th>\n",
       "      <td>23134</td>\n",
       "      <td>18</td>\n",
       "      <td>199</td>\n",
       "      <td>85</td>\n",
       "      <td>NaN</td>\n",
       "      <td>X</td>\n",
       "      <td>10/08/13</td>\n",
       "      <td>04/10/13</td>\n",
       "      <td>46-55</td>\n",
       "      <td>NaN</td>\n",
       "      <td>...</td>\n",
       "      <td>3.0</td>\n",
       "      <td>2013-03-29</td>\n",
       "      <td>37</td>\n",
       "      <td>2</td>\n",
       "      <td>95.11</td>\n",
       "      <td>-18.17</td>\n",
       "      <td>0.0</td>\n",
       "      <td>56</td>\n",
       "      <td>Local</td>\n",
       "      <td>Grocery</td>\n",
       "    </tr>\n",
       "    <tr>\n",
       "      <th>2</th>\n",
       "      <td>24558</td>\n",
       "      <td>13</td>\n",
       "      <td>1032</td>\n",
       "      <td>85</td>\n",
       "      <td>0.0</td>\n",
       "      <td>X</td>\n",
       "      <td>19/05/13</td>\n",
       "      <td>05/07/13</td>\n",
       "      <td>46-55</td>\n",
       "      <td>NaN</td>\n",
       "      <td>...</td>\n",
       "      <td>3.0</td>\n",
       "      <td>2013-03-29</td>\n",
       "      <td>37</td>\n",
       "      <td>2</td>\n",
       "      <td>95.11</td>\n",
       "      <td>-18.17</td>\n",
       "      <td>0.0</td>\n",
       "      <td>56</td>\n",
       "      <td>Local</td>\n",
       "      <td>Grocery</td>\n",
       "    </tr>\n",
       "    <tr>\n",
       "      <th>3</th>\n",
       "      <td>52925</td>\n",
       "      <td>8</td>\n",
       "      <td>433</td>\n",
       "      <td>85</td>\n",
       "      <td>0.0</td>\n",
       "      <td>X</td>\n",
       "      <td>16/02/13</td>\n",
       "      <td>05/04/13</td>\n",
       "      <td>46-55</td>\n",
       "      <td>NaN</td>\n",
       "      <td>...</td>\n",
       "      <td>3.0</td>\n",
       "      <td>2013-03-29</td>\n",
       "      <td>37</td>\n",
       "      <td>2</td>\n",
       "      <td>95.11</td>\n",
       "      <td>-18.17</td>\n",
       "      <td>0.0</td>\n",
       "      <td>56</td>\n",
       "      <td>Local</td>\n",
       "      <td>Grocery</td>\n",
       "    </tr>\n",
       "    <tr>\n",
       "      <th>4</th>\n",
       "      <td>38200</td>\n",
       "      <td>18</td>\n",
       "      <td>702</td>\n",
       "      <td>85</td>\n",
       "      <td>NaN</td>\n",
       "      <td>X</td>\n",
       "      <td>10/08/13</td>\n",
       "      <td>04/10/13</td>\n",
       "      <td>46-55</td>\n",
       "      <td>NaN</td>\n",
       "      <td>...</td>\n",
       "      <td>3.0</td>\n",
       "      <td>2013-03-29</td>\n",
       "      <td>37</td>\n",
       "      <td>2</td>\n",
       "      <td>95.11</td>\n",
       "      <td>-18.17</td>\n",
       "      <td>0.0</td>\n",
       "      <td>56</td>\n",
       "      <td>Local</td>\n",
       "      <td>Grocery</td>\n",
       "    </tr>\n",
       "  </tbody>\n",
       "</table>\n",
       "<p>5 rows × 23 columns</p>\n",
       "</div>"
      ],
      "text/plain": [
       "      id  campaign_id  coupon_id  customer_id  redemption_status  \\\n",
       "0  11580           18        956           85                NaN   \n",
       "1  23134           18        199           85                NaN   \n",
       "2  24558           13       1032           85                0.0   \n",
       "3  52925            8        433           85                0.0   \n",
       "4  38200           18        702           85                NaN   \n",
       "\n",
       "  campaign_type start_date  end_date age_range marital_status  ...  \\\n",
       "0             X   10/08/13  04/10/13     46-55            NaN  ...   \n",
       "1             X   10/08/13  04/10/13     46-55            NaN  ...   \n",
       "2             X   19/05/13  05/07/13     46-55            NaN  ...   \n",
       "3             X   16/02/13  05/04/13     46-55            NaN  ...   \n",
       "4             X   10/08/13  04/10/13     46-55            NaN  ...   \n",
       "\n",
       "   income_bracket        date item_id  quantity selling_price  other_discount  \\\n",
       "0             3.0  2013-03-29      37         2         95.11          -18.17   \n",
       "1             3.0  2013-03-29      37         2         95.11          -18.17   \n",
       "2             3.0  2013-03-29      37         2         95.11          -18.17   \n",
       "3             3.0  2013-03-29      37         2         95.11          -18.17   \n",
       "4             3.0  2013-03-29      37         2         95.11          -18.17   \n",
       "\n",
       "   coupon_discount  brand  brand_type  category  \n",
       "0              0.0     56       Local   Grocery  \n",
       "1              0.0     56       Local   Grocery  \n",
       "2              0.0     56       Local   Grocery  \n",
       "3              0.0     56       Local   Grocery  \n",
       "4              0.0     56       Local   Grocery  \n",
       "\n",
       "[5 rows x 23 columns]"
      ]
     },
     "execution_count": 181,
     "metadata": {},
     "output_type": "execute_result"
    }
   ],
   "source": [
    "data.head()"
   ]
  },
  {
   "cell_type": "code",
   "execution_count": 192,
   "metadata": {},
   "outputs": [
    {
     "data": {
      "text/html": [
       "<div>\n",
       "<style scoped>\n",
       "    .dataframe tbody tr th:only-of-type {\n",
       "        vertical-align: middle;\n",
       "    }\n",
       "\n",
       "    .dataframe tbody tr th {\n",
       "        vertical-align: top;\n",
       "    }\n",
       "\n",
       "    .dataframe thead th {\n",
       "        text-align: right;\n",
       "    }\n",
       "</style>\n",
       "<table border=\"1\" class=\"dataframe\">\n",
       "  <thead>\n",
       "    <tr style=\"text-align: right;\">\n",
       "      <th></th>\n",
       "      <th>id</th>\n",
       "      <th>campaign_id</th>\n",
       "      <th>coupon_id</th>\n",
       "      <th>customer_id</th>\n",
       "      <th>redemption_status</th>\n",
       "      <th>campaign_type</th>\n",
       "      <th>start_date</th>\n",
       "      <th>end_date</th>\n",
       "      <th>age_range</th>\n",
       "      <th>marital_status</th>\n",
       "      <th>...</th>\n",
       "      <th>income_bracket</th>\n",
       "      <th>date</th>\n",
       "      <th>item_id</th>\n",
       "      <th>quantity</th>\n",
       "      <th>selling_price</th>\n",
       "      <th>other_discount</th>\n",
       "      <th>coupon_discount</th>\n",
       "      <th>brand</th>\n",
       "      <th>brand_type</th>\n",
       "      <th>category</th>\n",
       "    </tr>\n",
       "  </thead>\n",
       "  <tbody>\n",
       "    <tr>\n",
       "      <th>0</th>\n",
       "      <td>11580</td>\n",
       "      <td>18</td>\n",
       "      <td>956</td>\n",
       "      <td>85</td>\n",
       "      <td>NaN</td>\n",
       "      <td>0</td>\n",
       "      <td>2013-10-08</td>\n",
       "      <td>2013-04-10</td>\n",
       "      <td>0</td>\n",
       "      <td>-1</td>\n",
       "      <td>...</td>\n",
       "      <td>3.0</td>\n",
       "      <td>2013-03-29</td>\n",
       "      <td>37</td>\n",
       "      <td>2</td>\n",
       "      <td>95.11</td>\n",
       "      <td>-18.17</td>\n",
       "      <td>0.0</td>\n",
       "      <td>56</td>\n",
       "      <td>0</td>\n",
       "      <td>0</td>\n",
       "    </tr>\n",
       "    <tr>\n",
       "      <th>1</th>\n",
       "      <td>23134</td>\n",
       "      <td>18</td>\n",
       "      <td>199</td>\n",
       "      <td>85</td>\n",
       "      <td>NaN</td>\n",
       "      <td>0</td>\n",
       "      <td>2013-10-08</td>\n",
       "      <td>2013-04-10</td>\n",
       "      <td>0</td>\n",
       "      <td>-1</td>\n",
       "      <td>...</td>\n",
       "      <td>3.0</td>\n",
       "      <td>2013-03-29</td>\n",
       "      <td>37</td>\n",
       "      <td>2</td>\n",
       "      <td>95.11</td>\n",
       "      <td>-18.17</td>\n",
       "      <td>0.0</td>\n",
       "      <td>56</td>\n",
       "      <td>0</td>\n",
       "      <td>0</td>\n",
       "    </tr>\n",
       "    <tr>\n",
       "      <th>2</th>\n",
       "      <td>24558</td>\n",
       "      <td>13</td>\n",
       "      <td>1032</td>\n",
       "      <td>85</td>\n",
       "      <td>0.0</td>\n",
       "      <td>0</td>\n",
       "      <td>2013-05-19</td>\n",
       "      <td>2013-05-07</td>\n",
       "      <td>0</td>\n",
       "      <td>-1</td>\n",
       "      <td>...</td>\n",
       "      <td>3.0</td>\n",
       "      <td>2013-03-29</td>\n",
       "      <td>37</td>\n",
       "      <td>2</td>\n",
       "      <td>95.11</td>\n",
       "      <td>-18.17</td>\n",
       "      <td>0.0</td>\n",
       "      <td>56</td>\n",
       "      <td>0</td>\n",
       "      <td>0</td>\n",
       "    </tr>\n",
       "    <tr>\n",
       "      <th>3</th>\n",
       "      <td>52925</td>\n",
       "      <td>8</td>\n",
       "      <td>433</td>\n",
       "      <td>85</td>\n",
       "      <td>0.0</td>\n",
       "      <td>0</td>\n",
       "      <td>2013-02-16</td>\n",
       "      <td>2013-05-04</td>\n",
       "      <td>0</td>\n",
       "      <td>-1</td>\n",
       "      <td>...</td>\n",
       "      <td>3.0</td>\n",
       "      <td>2013-03-29</td>\n",
       "      <td>37</td>\n",
       "      <td>2</td>\n",
       "      <td>95.11</td>\n",
       "      <td>-18.17</td>\n",
       "      <td>0.0</td>\n",
       "      <td>56</td>\n",
       "      <td>0</td>\n",
       "      <td>0</td>\n",
       "    </tr>\n",
       "    <tr>\n",
       "      <th>4</th>\n",
       "      <td>38200</td>\n",
       "      <td>18</td>\n",
       "      <td>702</td>\n",
       "      <td>85</td>\n",
       "      <td>NaN</td>\n",
       "      <td>0</td>\n",
       "      <td>2013-10-08</td>\n",
       "      <td>2013-04-10</td>\n",
       "      <td>0</td>\n",
       "      <td>-1</td>\n",
       "      <td>...</td>\n",
       "      <td>3.0</td>\n",
       "      <td>2013-03-29</td>\n",
       "      <td>37</td>\n",
       "      <td>2</td>\n",
       "      <td>95.11</td>\n",
       "      <td>-18.17</td>\n",
       "      <td>0.0</td>\n",
       "      <td>56</td>\n",
       "      <td>0</td>\n",
       "      <td>0</td>\n",
       "    </tr>\n",
       "  </tbody>\n",
       "</table>\n",
       "<p>5 rows × 23 columns</p>\n",
       "</div>"
      ],
      "text/plain": [
       "      id  campaign_id  coupon_id  customer_id  redemption_status  \\\n",
       "0  11580           18        956           85                NaN   \n",
       "1  23134           18        199           85                NaN   \n",
       "2  24558           13       1032           85                0.0   \n",
       "3  52925            8        433           85                0.0   \n",
       "4  38200           18        702           85                NaN   \n",
       "\n",
       "   campaign_type start_date   end_date  age_range  marital_status  ...  \\\n",
       "0              0 2013-10-08 2013-04-10          0              -1  ...   \n",
       "1              0 2013-10-08 2013-04-10          0              -1  ...   \n",
       "2              0 2013-05-19 2013-05-07          0              -1  ...   \n",
       "3              0 2013-02-16 2013-05-04          0              -1  ...   \n",
       "4              0 2013-10-08 2013-04-10          0              -1  ...   \n",
       "\n",
       "   income_bracket       date  item_id  quantity selling_price  other_discount  \\\n",
       "0             3.0 2013-03-29       37         2         95.11          -18.17   \n",
       "1             3.0 2013-03-29       37         2         95.11          -18.17   \n",
       "2             3.0 2013-03-29       37         2         95.11          -18.17   \n",
       "3             3.0 2013-03-29       37         2         95.11          -18.17   \n",
       "4             3.0 2013-03-29       37         2         95.11          -18.17   \n",
       "\n",
       "   coupon_discount  brand  brand_type  category  \n",
       "0              0.0     56           0         0  \n",
       "1              0.0     56           0         0  \n",
       "2              0.0     56           0         0  \n",
       "3              0.0     56           0         0  \n",
       "4              0.0     56           0         0  \n",
       "\n",
       "[5 rows x 23 columns]"
      ]
     },
     "execution_count": 192,
     "metadata": {},
     "output_type": "execute_result"
    }
   ],
   "source": [
    "data.head()"
   ]
  },
  {
   "cell_type": "code",
   "execution_count": 183,
   "metadata": {},
   "outputs": [],
   "source": [
    "data['start_date'] = pd.to_datetime(data['start_date'])\n",
    "data['end_date'] = pd.to_datetime(data['end_date'])\n",
    "data['date'] = pd.to_datetime(data['date'])"
   ]
  },
  {
   "cell_type": "code",
   "execution_count": 197,
   "metadata": {},
   "outputs": [
    {
     "data": {
      "text/plain": [
       "array([ 0, -1,  1,  2,  3,  4], dtype=int64)"
      ]
     },
     "execution_count": 197,
     "metadata": {},
     "output_type": "execute_result"
    }
   ],
   "source": [
    "data['family_size'].unique()"
   ]
  },
  {
   "cell_type": "code",
   "execution_count": 204,
   "metadata": {},
   "outputs": [
    {
     "data": {
      "text/plain": [
       "(array([0, 0, 0, ..., 1, 1, 1], dtype=int64),\n",
       " Int64Index([0, -1, 1, 2, 3, 4], dtype='int64'))"
      ]
     },
     "execution_count": 204,
     "metadata": {},
     "output_type": "execute_result"
    }
   ],
   "source": [
    "data['family_size'].factorize()"
   ]
  },
  {
   "cell_type": "code",
   "execution_count": 203,
   "metadata": {},
   "outputs": [],
   "source": [
    "for i in data.columns:\n",
    "    if str(data[i].dtype) == 'object':\n",
    "        data[i] = data[i].factorize()[0]"
   ]
  },
  {
   "cell_type": "code",
   "execution_count": 205,
   "metadata": {},
   "outputs": [],
   "source": [
    "train_cols = ['campaign_id', 'coupon_id', 'customer_id',\n",
    "       'campaign_type', 'age_range','marital_status', 'rented', 'family_size', 'no_of_children',\n",
    "       'income_bracket', 'item_id', 'quantity', 'selling_price',\n",
    "       'other_discount', 'coupon_discount', 'brand', 'brand_type', 'category']"
   ]
  },
  {
   "cell_type": "code",
   "execution_count": 206,
   "metadata": {},
   "outputs": [],
   "source": [
    "data[train_cols] = data[train_cols].fillna(data[train_cols].mean())"
   ]
  },
  {
   "cell_type": "code",
   "execution_count": 207,
   "metadata": {},
   "outputs": [],
   "source": [
    "train = data[data['redemption_status'].notnull()]\n",
    "test = data[data['redemption_status'].isnull()]"
   ]
  },
  {
   "cell_type": "code",
   "execution_count": 208,
   "metadata": {},
   "outputs": [],
   "source": [
    "data = pd.concat([train, test], sort=False).reset_index(drop = True)\n",
    "ltr = len(train)"
   ]
  },
  {
   "cell_type": "code",
   "execution_count": 210,
   "metadata": {},
   "outputs": [],
   "source": [
    "def get_importances(clfs):\n",
    "    importances = [clf.feature_importance('gain') for clf in clfs]\n",
    "    importances = np.vstack(importances)\n",
    "    mean_gain = np.mean(importances, axis=0)\n",
    "    features = clfs[0].feature_name()\n",
    "    data = pd.DataFrame({'gain':mean_gain, 'feature':features})\n",
    "    plt.figure(figsize=(8, 30))\n",
    "    sns.barplot(x='gain', y='feature', data=data.sort_values('gain', ascending=False))\n",
    "    plt.tight_layout()\n",
    "    return data"
   ]
  },
  {
   "cell_type": "code",
   "execution_count": null,
   "metadata": {},
   "outputs": [],
   "source": []
  }
 ],
 "metadata": {
  "kernelspec": {
   "display_name": "Python 3",
   "language": "python",
   "name": "python3"
  },
  "language_info": {
   "codemirror_mode": {
    "name": "ipython",
    "version": 3
   },
   "file_extension": ".py",
   "mimetype": "text/x-python",
   "name": "python",
   "nbconvert_exporter": "python",
   "pygments_lexer": "ipython3",
   "version": "3.7.3"
  }
 },
 "nbformat": 4,
 "nbformat_minor": 2
}
