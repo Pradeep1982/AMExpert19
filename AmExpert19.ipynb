{
 "cells": [
  {
   "cell_type": "code",
   "execution_count": 2,
   "metadata": {},
   "outputs": [],
   "source": [
    "import pandas as pd\n",
    "import matplotlib.pyplot as plt\n",
    "%matplotlib inline \n",
    "import numpy as np\n",
    "import seaborn as sns\n",
    "import warnings"
   ]
  },
  {
   "cell_type": "code",
   "execution_count": 4,
   "metadata": {},
   "outputs": [],
   "source": [
    "train=pd.read_csv('train.csv')\n",
    "campaign_data=pd.read_csv('campaign_data.csv')\n",
    "coupon_item_mapping=pd.read_csv('coupon_item_mapping.csv')\n",
    "customer_demographics=pd.read_csv('customer_demographics.csv')\n",
    "customer_transaction_data=pd.read_csv('customer_transaction_data.csv')\n",
    "item_data=pd.read_csv('item_data.csv')"
   ]
  },
  {
   "cell_type": "code",
   "execution_count": 12,
   "metadata": {},
   "outputs": [
    {
     "name": "stdout",
     "output_type": "stream",
     "text": [
      "Train count 78369\n"
     ]
    }
   ],
   "source": [
    "print ('Train count:'+ str(len(train)))\n",
    "print ('campaign_data count:'+ str(len(campaign_data)))\n",
    "print ('coupon_item_mapping count:'+ str(len(train)))\n",
    "print ('Train count:'+ str(len(train)))\n",
    "print ('Train count:'+ str(len(train)))\n",
    "print ('Train count:'+ str(len(train)))"
   ]
  }
 ],
 "metadata": {
  "kernelspec": {
   "display_name": "Python 3",
   "language": "python",
   "name": "python3"
  },
  "language_info": {
   "codemirror_mode": {
    "name": "ipython",
    "version": 3
   },
   "file_extension": ".py",
   "mimetype": "text/x-python",
   "name": "python",
   "nbconvert_exporter": "python",
   "pygments_lexer": "ipython3",
   "version": "3.7.3"
  }
 },
 "nbformat": 4,
 "nbformat_minor": 2
}
